
# Temperature-Based Predictive Maintenance (PdM)

This notebook implements a machine learning pipeline to predict machine failures using temperature data.

## ✅ Step-by-Step

### 1. Upload Dataset

```python
from google.colab import files
uploaded = files.upload()
```

### 2. Load and Inspect Data

```python
import pandas as pd

df = pd.read_csv('predictive_maintenance.csv')  # Update name if needed
df.info()
df.describe()
df.head()
```

### 3. Data Cleaning and Preprocessing

```python
df.drop(['UDI', 'Product ID'], axis=1, inplace=True)

from sklearn.preprocessing import LabelEncoder
le = LabelEncoder()
df['Type'] = le.fit_transform(df['Type'])

df['Failure Type'] = df['Failure Type'].astype('category').cat.codes

X = df.drop('Failure Type', axis=1)
y = df['Failure Type']
```

### 4. Train-Test Split & Scaling

```python
from sklearn.model_selection import train_test_split
from sklearn.preprocessing import StandardScaler

X_train, X_test, y_train, y_test = train_test_split(X, y, test_size=0.2, random_state=42)

scaler = StandardScaler()
X_train = scaler.fit_transform(X_train)
X_test = scaler.transform(X_test)
```

### 5. Train Random Forest Classifier

```python
from sklearn.ensemble import RandomForestClassifier

model = RandomForestClassifier(n_estimators=100, random_state=42)
model.fit(X_train, y_train)
y_pred = model.predict(X_test)
```

### 6. Evaluation

```python
from sklearn.metrics import classification_report, confusion_matrix
import seaborn as sns
import matplotlib.pyplot as plt

print(classification_report(y_test, y_pred))

cm = confusion_matrix(y_test, y_pred)
sns.heatmap(cm, annot=True, fmt='d', cmap='Blues')
plt.title("Confusion Matrix")
plt.xlabel("Predicted")
plt.ylabel("Actual")
plt.show()
```

### 7. Feature Importance

```python
importances = model.feature_importances_
features = X.columns
sorted_idx = importances.argsort()

plt.figure(figsize=(10, 6))
plt.barh(range(len(importances)), importances[sorted_idx], align='center')
plt.yticks(range(len(importances)), [features[i] for i in sorted_idx])
plt.title('Feature Importance')
plt.xlabel('Importance Score')
plt.show()
```
